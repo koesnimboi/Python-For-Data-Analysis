{
 "cells": [
  {
   "cell_type": "code",
   "execution_count": 1,
   "metadata": {},
   "outputs": [
    {
     "name": "stdout",
     "output_type": "stream",
     "text": [
      "[[ 1.00190966 -0.90287277  0.19937593]\n",
      " [ 0.2900631  -0.2538817  -0.28888878]]\n",
      "(2, 3)\n",
      "float64\n"
     ]
    }
   ],
   "source": [
    "import numpy as np\n",
    "# ndarray - Numpy의 핵심기능으로 파이썬에서 할 수 있는 대규모 데이터 집합을 담을 수 있는 빠르고 유연한 자료구조\n",
    "data = np.random.randn(2,3)\n",
    "print(data)\n",
    "print(data.shape)\n",
    "print(data.dtype)"
   ]
  },
  {
   "cell_type": "code",
   "execution_count": 15,
   "metadata": {},
   "outputs": [
    {
     "name": "stdout",
     "output_type": "stream",
     "text": [
      "[6.  7.5 8.  0.  1. ]\n",
      "[[1 2 3 4]\n",
      " [5 6 7 8]]\n",
      "\n",
      "1\n",
      "2\n",
      "\n",
      "(2, 4)\n"
     ]
    }
   ],
   "source": [
    "data1 = [6, 7.5, 8, 0, 1]\n",
    "arr1 = np.array(data1)\n",
    "print(arr1)\n",
    "data2 = [[1,2,3,4],[5,6,7,8]]\n",
    "arr2 = np.array(data2)\n",
    "print(arr2)\n",
    "print()\n",
    "print(arr1.ndim)\n",
    "print(arr2.ndim)\n",
    "print()\n",
    "print(arr2.shape)"
   ]
  },
  {
   "cell_type": "code",
   "execution_count": 17,
   "metadata": {},
   "outputs": [
    {
     "name": "stdout",
     "output_type": "stream",
     "text": [
      "[[0. 0. 0. 0.]\n",
      " [0. 0. 0. 0.]\n",
      " [0. 0. 0. 0.]]\n",
      "[[1. 1. 1. 1.]\n",
      " [1. 1. 1. 1.]\n",
      " [1. 1. 1. 1.]]\n"
     ]
    }
   ],
   "source": [
    "print(np.zeros((3,4))) #np.zeros((x,y)) : x*y 크기의 행렬에 0이 들어있는 배열 생성\n",
    "print(np.ones((3,4)))  #np.ones((x,y))  : x*y 크기의 행렬에 1이 들어있는 배열 생성"
   ]
  },
  {
   "cell_type": "code",
   "execution_count": 21,
   "metadata": {},
   "outputs": [
    {
     "name": "stdout",
     "output_type": "stream",
     "text": [
      "float64 int32\n"
     ]
    }
   ],
   "source": [
    "# dtype : ndarray가 메모리에 있는 특정 데이터를 해석하기 위해 필요한 정보(또는 메타데이터)를 담고 있는 특수한 객체\n",
    "arr1 = np.array([1,2,3], dtype=np.float64)\n",
    "arr2 = np.array([1,2,3], dtype=np.int32)\n",
    "print(arr1.dtype, arr2.dtype)"
   ]
  },
  {
   "cell_type": "code",
   "execution_count": 26,
   "metadata": {},
   "outputs": [
    {
     "name": "stdout",
     "output_type": "stream",
     "text": [
      "int64\n",
      "float64\n",
      "\n",
      "float64\n",
      "[ 3 -1 -2  0 12 10]\n"
     ]
    }
   ],
   "source": [
    "arr1 = np.array([1,2,3,4,5])\n",
    "print(arr1.dtype)\n",
    "float_arr1 = arr1.astype(np.float64)  #ndarray의 astype 메서드를 사용해서 배열의 dtype을 다른형으로 명시적으로 변환 가능\n",
    "print(float_arr1.dtype)\n",
    "arr2 = np.array([3.7, -1.2, -2.6,0.5, 12.9, 10.1])\n",
    "print()\n",
    "print(arr2.dtype)\n",
    "print(arr2.astype(np.int32))  #dtype : float64 -> int32 = 소수점 아래는 버려짐"
   ]
  },
  {
   "cell_type": "code",
   "execution_count": 27,
   "metadata": {},
   "outputs": [
    {
     "data": {
      "text/plain": [
       "array([ 1.25, -9.6 , 42.  ])"
      ]
     },
     "execution_count": 27,
     "metadata": {},
     "output_type": "execute_result"
    }
   ],
   "source": [
    "numeric_strings = np.array(['1.25', '-9.6', '42'], dtype = np.string_)\n",
    "numeric_strings.astype(float) #숫자형식의 문자열을 담고 있는 배열도 astype을 사용해서 숫자로 변환할 수 있다 "
   ]
  },
  {
   "cell_type": "code",
   "execution_count": 34,
   "metadata": {},
   "outputs": [
    {
     "data": {
      "text/plain": [
       "array([0., 1., 2., 3., 4., 5., 6., 7., 8., 9.])"
      ]
     },
     "execution_count": 34,
     "metadata": {},
     "output_type": "execute_result"
    }
   ],
   "source": [
    "int_array = np.arange(10)\n",
    "calibers = np.array([.22, .270, .357, .380, .44, .50], dtype = np.float64)\n",
    "int_array.astype(calibers.dtype) #다른 배열의 dtype 속성을 이용가능"
   ]
  },
  {
   "cell_type": "code",
   "execution_count": 43,
   "metadata": {},
   "outputs": [
    {
     "name": "stdout",
     "output_type": "stream",
     "text": [
      "[[1. 2. 3.]\n",
      " [4. 5. 6.]]\n",
      "\n",
      "[[ 1.  4.  9.]\n",
      " [16. 25. 36.]]\n",
      "\n",
      "[[0. 0. 0.]\n",
      " [0. 0. 0.]]\n",
      "\n",
      "[[1.         0.5        0.33333333]\n",
      " [0.25       0.2        0.16666667]]\n",
      "\n",
      "[[ 0.  4.  1.]\n",
      " [ 7.  2. 12.]]\n",
      "\n",
      "[[False  True False]\n",
      " [ True False  True]]\n"
     ]
    }
   ],
   "source": [
    "arr = np.array([[1.,2.,3.],[4.,5.,6.]])\n",
    "print(arr)\n",
    "print()\n",
    "print(arr * arr)\n",
    "print()\n",
    "print(arr - arr)\n",
    "print()\n",
    "print(1/arr)\n",
    "print()\n",
    "arr2 = np.array([[0., 4., 1.],[7.,2.,12.]])\n",
    "print(arr2)\n",
    "print()\n",
    "print(arr2>arr)"
   ]
  },
  {
   "cell_type": "code",
   "execution_count": 53,
   "metadata": {},
   "outputs": [
    {
     "name": "stdout",
     "output_type": "stream",
     "text": [
      "[0 1 2 3 4 5 6 7 8 9]\n",
      "5\n",
      "[5 6 7]\n",
      "[ 0  1  2  3  4 12 12 12  8  9]\n",
      "\n",
      "[12 12 12]\n",
      "\n",
      "[    0     1     2     3     4    12 12345    12     8     9]\n",
      "[7 8 9]\n",
      "7\n"
     ]
    }
   ],
   "source": [
    "#slicing\n",
    "arr = np.arange(10)\n",
    "print(arr)\n",
    "print(arr[5])\n",
    "print(arr[5:8])\n",
    "arr[5:8] = 12\n",
    "print(arr)\n",
    "print()\n",
    "arr_slice = arr[5:8]\n",
    "print(arr_slice)\n",
    "print()\n",
    "arr_slice[1] = 12345 \n",
    "print(arr) # arr_slice의 값을 변경했을 때 원래 배열 arr의 값도 바뀐다\n",
    "arr2d = np.array([[1, 2, 3],[4,5,6],[7,8,9]])\n",
    "print(arr2d[2]) # 2차원 배열에서는 스칼라값이 아닌 1차원 배열들이 각 색인에 해당된다\n",
    "print(arr2d[2,0]) # 개별요소는 콤마로 넘기면 된다"
   ]
  },
  {
   "cell_type": "code",
   "execution_count": 61,
   "metadata": {},
   "outputs": [
    {
     "name": "stdout",
     "output_type": "stream",
     "text": [
      "[[[ 1  2  3]\n",
      "  [ 4  5  6]]\n",
      "\n",
      " [[ 7  8  9]\n",
      "  [10 11 12]]]\n",
      "\n",
      "[[1 2 3]\n",
      " [4 5 6]]\n",
      "\n",
      "[4 5 6]\n",
      "\n",
      "[[ 7  8  9]\n",
      " [10 11 12]] [7 8 9] [10 11 12]\n"
     ]
    }
   ],
   "source": [
    "arr3d = np.array([[[1,2,3],[4,5,6]],[[7,8,9],[10,11,12]]]) # arr3d : 2 X 2 X 3 크기의 배열\n",
    "print(arr3d)\n",
    "print()\n",
    "print(arr3d[0]) # arr3d[0] : 2 X 3 크기의 배열, 스칼라값을 대입해서 배열내의 값을 전체적으로 변경할수도있고 배열을 대입해서 통째로 변경도 가능하다\n",
    "print()\n",
    "print(arr3d[0,1]) # 콤마로 넘겨서 1차원 크기의 배열도 접근가능\n",
    "print()\n",
    "x = arr3d[1]\n",
    "print(x, x[0], x[1])"
   ]
  },
  {
   "cell_type": "code",
   "execution_count": 67,
   "metadata": {},
   "outputs": [
    {
     "name": "stdout",
     "output_type": "stream",
     "text": [
      "[[1 2 3]\n",
      " [4 5 6]\n",
      " [7 8 9]]\n",
      "\n",
      "[[1 2 3]\n",
      " [4 5 6]]\n",
      "\n",
      "[[2 3]\n",
      " [5 6]]\n",
      "\n",
      "[3 6]\n",
      "\n",
      "[5 6]\n"
     ]
    }
   ],
   "source": [
    "arr2d = np.array([[1,2,3],[4,5,6],[7,8,9]])\n",
    "print(arr2d)\n",
    "print()\n",
    "print(arr2d[:2]) # 0번축(row)를 기준으로 슬라이싱되었다.\n",
    "print()\n",
    "print(arr2d[:2,1:])\n",
    "print()\n",
    "print(arr2d[:2,2])\n",
    "print()\n",
    "print(arr2d[1,1:]) # 범위를 지정하지않고 단순히 컬럼이나 로우를 선택할 수도 있다."
   ]
  },
  {
   "cell_type": "code",
   "execution_count": 16,
   "metadata": {},
   "outputs": [
    {
     "name": "stdout",
     "output_type": "stream",
     "text": [
      "['Bob' 'Joe' 'Will' 'Bob' 'Will' 'Joe' 'Joe']\n",
      "\n",
      "[[ 0.47902304 -2.89801274  2.41601582 -2.71348868]\n",
      " [-0.94327746  0.6718678   0.37488626 -0.46735862]\n",
      " [-0.56980958  0.01812864 -0.63165513 -0.74823768]\n",
      " [-0.49169012 -0.33464331  0.19868567 -0.30058805]\n",
      " [-0.94122557  0.16227128  2.34994108  0.33513397]\n",
      " [ 0.17111399 -0.20287304  0.33425585 -1.16447029]\n",
      " [ 0.95977501  0.23938959 -1.41613127  0.48072793]]\n",
      "\n",
      "[ True False False  True False False False]\n",
      "\n",
      "[[ 0.47902304 -2.89801274  2.41601582 -2.71348868]\n",
      " [-0.49169012 -0.33464331  0.19868567 -0.30058805]]\n",
      "\n",
      "[[ 2.41601582 -2.71348868]\n",
      " [ 0.19868567 -0.30058805]]\n",
      "\n",
      "[-2.71348868 -0.30058805]\n",
      "\n",
      "[False  True  True False  True  True  True]\n",
      "\n",
      "[[-0.94327746  0.6718678   0.37488626 -0.46735862]\n",
      " [-0.56980958  0.01812864 -0.63165513 -0.74823768]\n",
      " [-0.94122557  0.16227128  2.34994108  0.33513397]\n",
      " [ 0.17111399 -0.20287304  0.33425585 -1.16447029]\n",
      " [ 0.95977501  0.23938959 -1.41613127  0.48072793]]\n",
      "\n",
      "[[-0.94327746  0.6718678   0.37488626 -0.46735862]\n",
      " [-0.56980958  0.01812864 -0.63165513 -0.74823768]\n",
      " [-0.94122557  0.16227128  2.34994108  0.33513397]\n",
      " [ 0.17111399 -0.20287304  0.33425585 -1.16447029]\n",
      " [ 0.95977501  0.23938959 -1.41613127  0.48072793]]\n",
      "\n",
      "[ True False  True  True  True False False]\n",
      "\n",
      "[[ 0.47902304 -2.89801274  2.41601582 -2.71348868]\n",
      " [-0.56980958  0.01812864 -0.63165513 -0.74823768]\n",
      " [-0.49169012 -0.33464331  0.19868567 -0.30058805]\n",
      " [-0.94122557  0.16227128  2.34994108  0.33513397]]\n",
      "\n",
      "[[0.47902304 0.         2.41601582 0.        ]\n",
      " [0.         0.6718678  0.37488626 0.        ]\n",
      " [0.         0.01812864 0.         0.        ]\n",
      " [0.         0.         0.19868567 0.        ]\n",
      " [0.         0.16227128 2.34994108 0.33513397]\n",
      " [0.17111399 0.         0.33425585 0.        ]\n",
      " [0.95977501 0.23938959 0.         0.48072793]]\n"
     ]
    }
   ],
   "source": [
    "names = np.array(['Bob', 'Joe', 'Will', 'Bob', 'Will', 'Joe', 'Joe'])\n",
    "data = np.random.randn(7,4)\n",
    "print(names)\n",
    "print()\n",
    "print(data)\n",
    "print()\n",
    "print(names == 'Bob')\n",
    "print()\n",
    "print(data [names == 'Bob']) \n",
    "print()\n",
    "print(data [names == 'Bob', 2:])\n",
    "print()\n",
    "print(data [names == 'Bob', 3])\n",
    "print()\n",
    "print(names != 'Bob')\n",
    "print()\n",
    "print(data [~(names == 'Bob')])\n",
    "print()\n",
    "cond = names == 'Bob'\n",
    "print(data[~cond])\n",
    "print()\n",
    "mask = (names == 'Bob') | (names == 'Will')\n",
    "print(mask)\n",
    "print()\n",
    "print(data[mask])\n",
    "print()\n",
    "data[data<0] = 0\n",
    "print(data)"
   ]
  },
  {
   "cell_type": "code",
   "execution_count": 26,
   "metadata": {},
   "outputs": [
    {
     "name": "stdout",
     "output_type": "stream",
     "text": [
      "[[0. 0. 0. 0.]\n",
      " [1. 1. 1. 1.]\n",
      " [2. 2. 2. 2.]\n",
      " [3. 3. 3. 3.]\n",
      " [4. 4. 4. 4.]\n",
      " [5. 5. 5. 5.]\n",
      " [6. 6. 6. 6.]\n",
      " [7. 7. 7. 7.]]\n",
      "\n",
      "[[3. 3. 3. 3.]\n",
      " [5. 5. 5. 5.]\n",
      " [1. 1. 1. 1.]\n",
      " [0. 0. 0. 0.]]\n",
      "\n",
      "[[5. 5. 5. 5.]\n",
      " [3. 3. 3. 3.]]\n"
     ]
    }
   ],
   "source": [
    "# Fancy Indexing\n",
    "arr = np.empty((8,4))\n",
    "for i in range(8):\n",
    "    arr[i] = i\n",
    "print(arr)\n",
    "print()\n",
    "print(arr[[3,5,1,0]]) # 특정 순서로 원하는 Row를 선택하고 싶다면 그 순서의 정수로 리스트를 넘기면 선택 가능하다\n",
    "print()\n",
    "print(arr[[-3,-5]]) # 색인으로 음수를 사용하면 끝에서부터 Row를 선택한다"
   ]
  },
  {
   "cell_type": "code",
   "execution_count": 33,
   "metadata": {},
   "outputs": [
    {
     "name": "stdout",
     "output_type": "stream",
     "text": [
      "[[ 0  1  2  3]\n",
      " [ 4  5  6  7]\n",
      " [ 8  9 10 11]\n",
      " [12 13 14 15]\n",
      " [16 17 18 19]\n",
      " [20 21 22 23]\n",
      " [24 25 26 27]\n",
      " [28 29 30 31]]\n",
      "\n",
      "[ 4 23 29 10]\n",
      "\n",
      "[[ 4  7  5  6]\n",
      " [20 23 21 22]\n",
      " [28 31 29 30]\n",
      " [ 8 11  9 10]]\n"
     ]
    }
   ],
   "source": [
    "arr = np.arange(32).reshape((8,4))\n",
    "print(arr)\n",
    "print()\n",
    "print(arr[[1,5,7,2],[0,3,1,2]]) # (1,0), (5,3), (7,1), (2,2) 에 대응하는 원소들이 선택 되었다.\n",
    "print()# 배열이 몇차원이든 팬시 색인의 결과는 항상 1차원이다.\n",
    "print(arr[[1,5,7,2]][:, [0,3,1,2]]) # 사각형 모양이 선택되기를 기대한다면 이렇게 하면 된다"
   ]
  },
  {
   "cell_type": "code",
   "execution_count": 36,
   "metadata": {},
   "outputs": [
    {
     "name": "stdout",
     "output_type": "stream",
     "text": [
      "[[ 0  1  2  3  4]\n",
      " [ 5  6  7  8  9]\n",
      " [10 11 12 13 14]]\n",
      "[[ 0  5 10]\n",
      " [ 1  6 11]\n",
      " [ 2  7 12]\n",
      " [ 3  8 13]\n",
      " [ 4  9 14]]\n"
     ]
    }
   ],
   "source": [
    "arr = np.arange(15).reshape(3,5)\n",
    "print(arr)\n",
    "print()\n",
    "print(arr.T) # T : transpose - 전치행렬"
   ]
  },
  {
   "cell_type": "code",
   "execution_count": 39,
   "metadata": {},
   "outputs": [
    {
     "name": "stdout",
     "output_type": "stream",
     "text": [
      "[[ 0.16659823  0.30882549  1.09572214]\n",
      " [ 0.65906025 -1.05904502  1.3416445 ]\n",
      " [ 0.37420923 -0.22865016  1.94378961]\n",
      " [ 0.33067067 -1.20198796 -1.05406244]\n",
      " [ 1.41628404  0.54196623 -1.27180878]\n",
      " [ 0.46159802 -0.24951121 -0.37323634]]\n",
      "\n",
      "[[ 2.93042423 -0.47714562 -0.52792121]\n",
      " [-0.47714562  3.06998871 -0.8561032 ]\n",
      " [-0.52792121 -0.8561032   9.64678556]]\n"
     ]
    }
   ],
   "source": [
    "arr = np.random.randn(6,3)\n",
    "print(arr)\n",
    "print()\n",
    "print(np.dot(arr.T, arr)) # np.dot(A,B) : 행렬 A X 행렬 B"
   ]
  },
  {
   "cell_type": "code",
   "execution_count": 45,
   "metadata": {},
   "outputs": [
    {
     "name": "stdout",
     "output_type": "stream",
     "text": [
      "[[[ 0  1  2  3]\n",
      "  [ 4  5  6  7]]\n",
      "\n",
      " [[ 8  9 10 11]\n",
      "  [12 13 14 15]]]\n",
      "\n",
      "[[[ 0  1  2  3]\n",
      "  [ 8  9 10 11]]\n",
      "\n",
      " [[ 4  5  6  7]\n",
      "  [12 13 14 15]]]\n",
      "\n",
      "[[[ 0  4]\n",
      "  [ 1  5]\n",
      "  [ 2  6]\n",
      "  [ 3  7]]\n",
      "\n",
      " [[ 8 12]\n",
      "  [ 9 13]\n",
      "  [10 14]\n",
      "  [11 15]]]\n"
     ]
    }
   ],
   "source": [
    "# ****************\n",
    "arr = np.arange(16).reshape((2,2,4))\n",
    "print(arr)\n",
    "print()\n",
    "# 다차원 배열의 경우 transpose 메서드는 튜플로 축 번호를 받아서 치환한다.\n",
    "print(arr.transpose((1,0,2)))\n",
    "print()\n",
    "print(arr.swapaxes(1,2)) # swapaxes 메서드는 두개의 축번호를 받아서 배열을 뒤바꾼다. -> 축번호에 따라 어떻게 변하는지 이해 안감ㅠㅠㅠ"
   ]
  },
  {
   "cell_type": "code",
   "execution_count": 49,
   "metadata": {},
   "outputs": [
    {
     "name": "stdout",
     "output_type": "stream",
     "text": [
      "[0 1 2 3 4 5 6 7 8 9]\n",
      "\n",
      "[0.         1.         1.41421356 1.73205081 2.         2.23606798\n",
      " 2.44948974 2.64575131 2.82842712 3.        ]\n",
      "\n",
      "[1.00000000e+00 2.71828183e+00 7.38905610e+00 2.00855369e+01\n",
      " 5.45981500e+01 1.48413159e+02 4.03428793e+02 1.09663316e+03\n",
      " 2.98095799e+03 8.10308393e+03]\n"
     ]
    }
   ],
   "source": [
    "# ufunc(유니버셜 함수) : ndarray 안에 있는 데이터 \"원소 별\"로 연산을 수행하는 함수\n",
    "\n",
    "arr = np.arange(10)\n",
    "print(arr)\n",
    "print()\n",
    "print(np.sqrt(arr)) # 단항 유니버셜 함수 | np.sqrt() : 배열 원소의 제곱은 범용함수\n",
    "print()\n",
    "print(np.exp(arr))  # 단항 유니버셜 함수 | np.exp(): 밑이 자연상수 e 인 지수함수 e^(해당 원소) 로 변환해주는 범용함수"
   ]
  },
  {
   "cell_type": "code",
   "execution_count": 52,
   "metadata": {},
   "outputs": [
    {
     "name": "stdout",
     "output_type": "stream",
     "text": [
      "[-1.2692815  -0.87573178 -0.37557946  0.81208966 -1.15530008 -0.35557164\n",
      "  0.95951556  0.2437231 ]\n",
      "\n",
      "[-0.05825548  1.28981088  1.20324303 -1.61025655 -0.66089653 -0.71383967\n",
      " -0.79839156 -1.32751232]\n",
      "\n",
      "[-0.05825548  1.28981088  1.20324303  0.81208966 -0.66089653 -0.35557164\n",
      "  0.95951556  0.2437231 ]\n"
     ]
    }
   ],
   "source": [
    "x = np.random.randn(8)\n",
    "y = np.random.randn(8)\n",
    "print(x)\n",
    "print()\n",
    "print(y)\n",
    "print()\n",
    "print(np.maximum(x,y)) # 이항 유니버셜 함수 | np.maximum(x,y) : 두 배열의 위치에 맞는 원소끼리 비교해 큰 값을 배출한다."
   ]
  },
  {
   "cell_type": "code",
   "execution_count": 56,
   "metadata": {
    "scrolled": true
   },
   "outputs": [
    {
     "name": "stdout",
     "output_type": "stream",
     "text": [
      "[-1.92356222 -0.26879611 -2.84320553  4.28659118  4.6577398  -3.96211551\n",
      "  3.973833  ]\n",
      "\n",
      "[-0.92356222 -0.26879611 -0.84320553  0.28659118  0.6577398  -0.96211551\n",
      "  0.973833  ]\n",
      "\n",
      "[-1. -0. -2.  4.  4. -3.  3.]\n",
      "\n",
      "[       nan        nan        nan 2.07040846 2.15817974        nan\n",
      " 1.99344752]\n"
     ]
    },
    {
     "name": "stderr",
     "output_type": "stream",
     "text": [
      "<ipython-input-56-6281a53bd699>:9: RuntimeWarning: invalid value encountered in sqrt\n",
      "  print(np.sqrt(arr))\n"
     ]
    }
   ],
   "source": [
    "arr = np.random.randn(7) *5\n",
    "print(arr)\n",
    "print()\n",
    "remainder, whole_part = np.modf(arr) # np.modf() : divmod의 벡터화 버전. 각 원소의 몫과 나머지를 각각의 배열로 반환\n",
    "print(remainder)\n",
    "print()\n",
    "print(whole_part)\n",
    "print()\n",
    "print(np.sqrt(arr))"
   ]
  },
  {
   "cell_type": "code",
   "execution_count": null,
   "metadata": {},
   "outputs": [],
   "source": [
    "# 벡터화 : 배열 연산을 사용해서 반복문을 명시적으로 제거하는 기법 \n",
    "# 일반적으로 벡터화된 배열에 대한 산술 연산은 순수 파이썬 연산에 비해 비교할수 없을 정도로 빠름"
   ]
  },
  {
   "cell_type": "code",
   "execution_count": 64,
   "metadata": {},
   "outputs": [
    {
     "name": "stdout",
     "output_type": "stream",
     "text": [
      "[[-5.   -5.   -5.   ... -5.   -5.   -5.  ]\n",
      " [-4.99 -4.99 -4.99 ... -4.99 -4.99 -4.99]\n",
      " [-4.98 -4.98 -4.98 ... -4.98 -4.98 -4.98]\n",
      " ...\n",
      " [ 4.97  4.97  4.97 ...  4.97  4.97  4.97]\n",
      " [ 4.98  4.98  4.98 ...  4.98  4.98  4.98]\n",
      " [ 4.99  4.99  4.99 ...  4.99  4.99  4.99]]\n",
      "\n",
      "[[7.07106781 7.06400028 7.05693985 ... 7.04988652 7.05693985 7.06400028]\n",
      " [7.06400028 7.05692568 7.04985815 ... 7.04279774 7.04985815 7.05692568]\n",
      " [7.05693985 7.04985815 7.04278354 ... 7.03571603 7.04278354 7.04985815]\n",
      " ...\n",
      " [7.04988652 7.04279774 7.03571603 ... 7.0286414  7.03571603 7.04279774]\n",
      " [7.05693985 7.04985815 7.04278354 ... 7.03571603 7.04278354 7.04985815]\n",
      " [7.06400028 7.05692568 7.04985815 ... 7.04279774 7.04985815 7.05692568]]\n",
      "\n"
     ]
    },
    {
     "data": {
      "text/plain": [
       "Text(0.5, 1.0, 'Image plot of $\\\\sqrt{x^2+y^2}$ for a grid of values')"
      ]
     },
     "execution_count": 64,
     "metadata": {},
     "output_type": "execute_result"
    },
    {
     "data": {
      "image/png": "[encoded data removed]",
      "text/plain": [
       "<Figure size 432x288 with 2 Axes>"
      ]
     },
     "metadata": {
      "needs_background": "light"
     },
     "output_type": "display_data"
    }
   ],
   "source": [
    "import matplotlib.pyplot as plt\n",
    "points = np.arange(-5, 5, 0.01) # -5 부터 4.99까지 0.01 씩 증가하는 값들의 배열\n",
    "xs, ys = np.meshgrid(points, points) \n",
    "# np.meshgrid() : 두 개의 1차원 배열을 받아서 가능한 모든 (x,y) 짝을 만들 수 있는 2차원 배열 두개를 반환\n",
    "print(ys)\n",
    "print()\n",
    "z = np.sqrt(xs **2 + ys ** 2)\n",
    "print(z)\n",
    "print()\n",
    "plt.imshow(z, cmap = plt.cm.gray); plt.colorbar()\n",
    "plt.title(\"Image plot of $\\sqrt{x^2+y^2}$ for a grid of values\")"
   ]
  },
  {
   "cell_type": "code",
   "execution_count": 2,
   "metadata": {},
   "outputs": [
    {
     "data": {
      "text/plain": [
       "array([1.1, 2.2, 1.3, 1.4, 2.5])"
      ]
     },
     "execution_count": 2,
     "metadata": {},
     "output_type": "execute_result"
    }
   ],
   "source": [
    "xarr = np.array([1.1, 1.2, 1.3, 1.4, 1.5])\n",
    "yarr = np.array([2.1, 2.2, 2.3, 2.4, 2.5])\n",
    "cond = np.array([True, False, True, True, False])\n",
    "result = np.where(cond, xarr, yarr) # np.where() : x if 조건 else y 같은 삼항식의 벡터화된 버전\n",
    "# cond의 값이 True 일 때는 xarr의 값, False 일때는 yarr의 값을 취한다.\n",
    "result"
   ]
  },
  {
   "cell_type": "code",
   "execution_count": 6,
   "metadata": {},
   "outputs": [
    {
     "name": "stdout",
     "output_type": "stream",
     "text": [
      "[[ 0.28289752 -0.83923777 -1.61495136  0.16360244]\n",
      " [ 1.20333932  0.9629123  -2.42666034 -0.4806008 ]\n",
      " [-0.62920031  1.51519445  1.32334712 -0.91862356]\n",
      " [ 0.88998735 -0.34886124  0.96473935  1.95542082]]\n",
      "\n",
      "[[ True False False  True]\n",
      " [ True  True False False]\n",
      " [False  True  True False]\n",
      " [ True False  True  True]]\n",
      "\n",
      "[[ 2 -2 -2  2]\n",
      " [ 2  2 -2 -2]\n",
      " [-2  2  2 -2]\n",
      " [ 2 -2  2  2]]\n",
      "\n",
      "[[ 2.         -0.83923777 -1.61495136  2.        ]\n",
      " [ 2.          2.         -2.42666034 -0.4806008 ]\n",
      " [-0.62920031  2.          2.         -0.91862356]\n",
      " [ 2.         -0.34886124  2.          2.        ]]\n"
     ]
    }
   ],
   "source": [
    "arr = np.random.randn(4,4)\n",
    "print(arr)\n",
    "print()\n",
    "print(arr>0)\n",
    "print()\n",
    "print(np.where(arr > 0, 2, -2)) # arr 내의 값이 0보다 클 때는 2 작을 때는 -2를 대입한다\n",
    "print()\n",
    "print(np.where(arr > 0, 2, arr)) # arr 내의 값이 0보다 클 때는 2 작을때는 arr 내의 값을 그대로 출력한다"
   ]
  },
  {
   "cell_type": "code",
   "execution_count": 12,
   "metadata": {},
   "outputs": [
    {
     "name": "stdout",
     "output_type": "stream",
     "text": [
      "[[ 0.06555808 -0.69458586  0.49687184 -0.89198067]\n",
      " [-0.76513022 -0.30134687 -0.16885434 -1.4153961 ]\n",
      " [-0.9943133   0.23805458 -0.4765197  -0.80202189]\n",
      " [-1.08166309  2.74092484  0.20288276  0.70183076]\n",
      " [-0.12208748  0.20942259 -0.13460102 -1.48136076]]\n",
      "\n",
      "-0.23371579207595708 -0.23371579207595708\n",
      "\n",
      "-4.6743158415191415\n",
      "\n",
      "[-0.25603415 -0.66268188 -0.50870008  0.64099382 -0.38215667]\n",
      "\n",
      "[-2.89763601  2.19246928 -0.08022046 -3.88892865]\n"
     ]
    }
   ],
   "source": [
    "arr = np.random.randn(5,4)\n",
    "print(arr)\n",
    "print()\n",
    "print(arr.mean(), np.mean(arr))\n",
    "print()\n",
    "print(arr.sum())\n",
    "print()\n",
    "print(arr.mean(axis = 1)) # 1 : 모든 column\n",
    "print()\n",
    "print(arr.sum(axis = 0)) # 0 : 모든 row"
   ]
  },
  {
   "cell_type": "code",
   "execution_count": 18,
   "metadata": {},
   "outputs": [
    {
     "name": "stdout",
     "output_type": "stream",
     "text": [
      "[ 0  1  3  6 10 15 21 28]\n",
      "\n",
      "[[0 1 2]\n",
      " [3 4 5]\n",
      " [6 7 8]]\n",
      "\n",
      "[[ 0  1  2]\n",
      " [ 3  5  7]\n",
      " [ 9 12 15]]\n",
      "\n",
      "[[  0   0   0]\n",
      " [  3  12  60]\n",
      " [  6  42 336]]\n"
     ]
    }
   ],
   "source": [
    "arr1 = np.array([0, 1, 2, 3, 4, 5, 6, 7])\n",
    "print(arr1.cumsum()) # .cumsum() : 각 원소의 누적합을 계산\n",
    "print()\n",
    "arr2 = np.array([[0,1,2],[3,4,5],[6,7,8]])\n",
    "print(arr2)\n",
    "print()\n",
    "print(arr2.cumsum(axis=0))\n",
    "print()\n",
    "print(arr2.cumprod(axis=1)) # .cumprod() : 각 원소의 누적곱"
   ]
  },
  {
   "cell_type": "code",
   "execution_count": 24,
   "metadata": {},
   "outputs": [
    {
     "data": {
      "text/plain": [
       "43"
      ]
     },
     "execution_count": 24,
     "metadata": {},
     "output_type": "execute_result"
    }
   ],
   "source": [
    "arr = np.random.randn(100)\n",
    "(arr > 0).sum() # 양수인 원소의 개수"
   ]
  },
  {
   "cell_type": "code",
   "execution_count": 25,
   "metadata": {},
   "outputs": [
    {
     "name": "stdout",
     "output_type": "stream",
     "text": [
      "True\n",
      "\n",
      "False\n"
     ]
    }
   ],
   "source": [
    "bools = np.array([False, False, True, False])\n",
    "print(bools.any()) # any 메서드는 하나 이상의 값이 True인지 검사\n",
    "print()\n",
    "print(bools.all()) # all 메서드는 모든 원소가 True인지 검사"
   ]
  },
  {
   "cell_type": "code",
   "execution_count": 32,
   "metadata": {},
   "outputs": [
    {
     "name": "stdout",
     "output_type": "stream",
     "text": [
      "[-1.85921932 -0.2984841   0.09820421 -1.29487222  1.71502205 -0.08403157]\n",
      "\n",
      "[-1.85921932 -1.29487222 -0.2984841  -0.08403157  0.09820421  1.71502205]\n",
      "\n",
      "[[ 0.42950596  0.2591378   1.43251331]\n",
      " [ 0.47621312  0.47879344 -0.15280781]\n",
      " [-0.51947237  0.88317034  0.36949243]\n",
      " [-0.83870561  0.02960462 -0.30098799]\n",
      " [ 0.33996227 -2.68066949 -1.41470006]]\n",
      "\n",
      "[[ 0.2591378   0.42950596  1.43251331]\n",
      " [-0.15280781  0.47621312  0.47879344]\n",
      " [-0.51947237  0.36949243  0.88317034]\n",
      " [-0.83870561 -0.30098799  0.02960462]\n",
      " [-2.68066949 -1.41470006  0.33996227]]\n"
     ]
    }
   ],
   "source": [
    "arr1 = np.random.randn(6)\n",
    "print(arr1)\n",
    "print()\n",
    "arr1.sort()\n",
    "print(arr1)\n",
    "print()\n",
    "arr2 = np.random.randn(5,3)\n",
    "print(arr2)\n",
    "print()\n",
    "arr2.sort(1) #다차원 배열의 정렬은 sort 메서드에 넘긴 축의 값에 따라 1차원 부분을 정렬\n",
    "print(arr2)"
   ]
  },
  {
   "cell_type": "code",
   "execution_count": 34,
   "metadata": {},
   "outputs": [
    {
     "data": {
      "text/plain": [
       "-1.6181870295839884"
      ]
     },
     "execution_count": 34,
     "metadata": {},
     "output_type": "execute_result"
    }
   ],
   "source": [
    "large_arr = np.random.randn(1000)\n",
    "large_arr.sort()\n",
    "large_arr[int(0.05*len(large_arr))] # 5% 분위수"
   ]
  },
  {
   "cell_type": "code",
   "execution_count": 39,
   "metadata": {},
   "outputs": [
    {
     "name": "stdout",
     "output_type": "stream",
     "text": [
      "['Bob' 'Joe' 'Will']\n",
      "\n",
      "[1 2 3 4]\n",
      "\n",
      "[ True False False  True  True False  True]\n"
     ]
    }
   ],
   "source": [
    "names = np.array(['Bob', 'Joe', 'Will','Bob', 'Will', 'Joe', 'Joe'])\n",
    "print(np.unique(names)) # np.unique() : 중복된 원소를 제거하고 남은 원소를 정렬된 형태로 반환한다\n",
    "print()\n",
    "ints = np.array([3, 3, 3, 2, 2, 1, 1, 4, 4])\n",
    "print(np.unique(ints))\n",
    "print()\n",
    "values = np.array([6, 0, 0, 3, 2, 5, 6])\n",
    "print(np.in1d(values, [2,3,6])) \n",
    "# np.in1d(,) : 두 개의 배열을 인자로 받아서 첫번째 배열의 원소가 두번째 배열의 원소를 포함하는지 나타내는 불리언 배열을 반환"
   ]
  },
  {
   "cell_type": "code",
   "execution_count": 46,
   "metadata": {},
   "outputs": [
    {
     "data": {
      "text/plain": [
       "array([0, 1, 2, 3, 4, 5, 6, 7, 8, 9])"
      ]
     },
     "execution_count": 46,
     "metadata": {},
     "output_type": "execute_result"
    }
   ],
   "source": [
    "arr = np.arange(10)\n",
    "np.save('some_array', arr)\n",
    "np.load('some_array.npy') # np.save(), np.load() : 배열 데이터를 효과적으로 디스크에 저장하고 불러오기 위한 함수\n",
    "np.savez('array_archive.npz', a = arr, b =arr) \n",
    "# np.savez() : 여러개의 배열을 압축된 형식으로 저장할 수 있고 저장하려는 배열을 키워드 인자 형태로 전달\n",
    "# 압축이 잘되는 형식의 데이터라면 대신 np.savez_compressed()를 사용하자\n",
    "arch = np.load('array_archive.npz')\n",
    "arch['b']"
   ]
  },
  {
   "cell_type": "code",
   "execution_count": 52,
   "metadata": {},
   "outputs": [
    {
     "name": "stdout",
     "output_type": "stream",
     "text": [
      "[[1. 2. 3.]\n",
      " [4. 5. 6.]]\n",
      "\n",
      "[[ 6. 23.]\n",
      " [-1.  7.]\n",
      " [ 8.  9.]]\n",
      "\n",
      "[[ 28.  64.]\n",
      " [ 67. 181.]]\n",
      "\n",
      "[[ 28.  64.]\n",
      " [ 67. 181.]]\n",
      "\n",
      "[[ 28.  64.]\n",
      " [ 67. 181.]]\n"
     ]
    }
   ],
   "source": [
    "x = np.array([[1., 2., 3.], [4., 5., 6.]])\n",
    "y = np.array([[6., 23.], [-1, 7], [8, 9]])\n",
    "print(x)\n",
    "print()\n",
    "print(y)\n",
    "print()\n",
    "print(x.dot(y))\n",
    "print()\n",
    "print(np.dot(x, y))\n",
    "print()\n",
    "print(x @ y) # x.dot(y) = np.dot(x,y) = x @ y (python 3.5부터 \"@\"로 행렬곱셈 가능)"
   ]
  },
  {
   "cell_type": "code",
   "execution_count": 56,
   "metadata": {},
   "outputs": [
    {
     "name": "stdout",
     "output_type": "stream",
     "text": [
      "[[ 1.62801225  0.9906593   5.53414251 -0.67178437  3.26519078]\n",
      " [ 0.9906593   1.30154958  4.6420318  -0.57338313  2.590144  ]\n",
      " [ 5.53414251  4.6420318  22.35535    -2.51437709 12.84976546]\n",
      " [-0.67178437 -0.57338313 -2.51437709  0.47069728 -1.54897091]\n",
      " [ 3.26519078  2.590144   12.84976546 -1.54897091  7.63617924]]\n",
      "\n",
      "[[ 1.00000000e+00  6.10622664e-16  9.71445147e-16  0.00000000e+00\n",
      "   6.66133815e-16]\n",
      " [ 0.00000000e+00  1.00000000e+00  3.55271368e-15  8.88178420e-16\n",
      "   0.00000000e+00]\n",
      " [ 1.77635684e-15  1.77635684e-15  1.00000000e+00  8.88178420e-16\n",
      "   3.55271368e-15]\n",
      " [ 3.55271368e-15  1.77635684e-15  7.10542736e-15  1.00000000e+00\n",
      "  -3.55271368e-15]\n",
      " [ 3.55271368e-15  3.55271368e-15  1.42108547e-14 -3.55271368e-15\n",
      "   1.00000000e+00]]\n",
      "\n",
      "[[-8.08062148 -7.03872021  4.42070141 -7.33460769 -3.08371621]\n",
      " [ 0.         -4.32992182  3.88388788 -6.12671592 -6.37281884]\n",
      " [ 0.          0.         -2.44671386  2.62093365  4.74231245]\n",
      " [ 0.          0.          0.         -5.51906671 -1.10167228]\n",
      " [ 0.          0.          0.          0.          0.064124  ]]\n"
     ]
    }
   ],
   "source": [
    "from numpy.linalg import inv, qr\n",
    "# numpy.linalg는 행렬의 분할과 역행렬, 행렬식과 같은 것들을 포함하고 있다\n",
    "x = np.random.randn(5,5)\n",
    "mat = x.T.dot(x)\n",
    "print(inv(mat)) #inv() : 역행렬 생성\n",
    "print()\n",
    "print(mat.dot(inv(mat)))\n",
    "print()\n",
    "q, r = qr(mat) # qr() : 해당 행렬의 QR분해\n",
    "print(r)"
   ]
  },
  {
   "cell_type": "code",
   "execution_count": 58,
   "metadata": {},
   "outputs": [
    {
     "data": {
      "text/plain": [
       "array([[ 0.03790029,  1.39125837, -1.23519411, -0.81963705],\n",
       "       [ 0.22860862, -0.43578241, -0.66085223,  1.83773832],\n",
       "       [-0.94797006, -0.96092533, -0.10464193,  0.32045046],\n",
       "       [-1.23424982,  0.41870936, -0.99848915, -0.22680595]])"
      ]
     },
     "execution_count": 58,
     "metadata": {},
     "output_type": "execute_result"
    }
   ],
   "source": [
    "# 난수 생성\n",
    "\n",
    "samples = np.random.normal(size=(4,4))\n",
    "samples"
   ]
  },
  {
   "cell_type": "code",
   "execution_count": 61,
   "metadata": {},
   "outputs": [
    {
     "name": "stdout",
     "output_type": "stream",
     "text": [
      "540 ms ± 2.07 ms per loop (mean ± std. dev. of 7 runs, 1 loop each)\n"
     ]
    }
   ],
   "source": [
    "from random import normalvariate\n",
    "N = 1000000\n",
    "%timeit samples = [normalvariate(0,1) for _ in range(N)]"
   ]
  },
  {
   "cell_type": "code",
   "execution_count": 62,
   "metadata": {},
   "outputs": [
    {
     "data": {
      "text/plain": [
       "array([ 0.47143516, -1.19097569,  1.43270697, -0.3126519 , -0.72058873,\n",
       "        0.88716294,  0.85958841, -0.6365235 ,  0.01569637, -2.24268495])"
      ]
     },
     "execution_count": 62,
     "metadata": {},
     "output_type": "execute_result"
    }
   ],
   "source": [
    "# 난수 생성기의 시드값에 따라 정해진 난수를 알고리즘으로 생성\n",
    "# Numpy 난수 생성기의 시드값은 np.ranom.seed를 이용해서 변경 가능\n",
    "np.random.seed(1234)\n",
    "rng = np.random.RandomState(1234) # np.random.RandomState 를 이용해서 다른 난수 생성기로부터 격리된 난수 생성기 생성 가능\n",
    "rng.randn(10)"
   ]
  },
  {
   "cell_type": "code",
   "execution_count": 77,
   "metadata": {},
   "outputs": [
    {
     "name": "stdout",
     "output_type": "stream",
     "text": [
      "-24\n",
      "\n",
      "18\n",
      "\n",
      "117\n",
      "\n",
      "[[ -1  -2  -1 ... -24 -23 -24]\n",
      " [ -1   0   1 ... -30 -31 -32]\n",
      " [  1   0   1 ...  30  31  30]\n",
      " ...\n",
      " [ -1  -2  -1 ...  24  25  24]\n",
      " [  1   2   3 ...  -2  -1   0]\n",
      " [ -1  -2  -3 ... -32 -31 -32]]\n",
      "\n",
      "141 -114\n",
      "[False  True  True ... False False  True]\n",
      "\n",
      "499.2307239552678\n"
     ]
    },
    {
     "data": {
      "image/png": "[encoded data removed]",
      "text/plain": [
       "<Figure size 432x288 with 1 Axes>"
      ]
     },
     "metadata": {
      "needs_background": "light"
     },
     "output_type": "display_data"
    }
   ],
   "source": [
    "# 계단 오르기 예제\n",
    "# 계단 오르내리기를 1,000번 수행하는 코드\n",
    "import random\n",
    "position = 0\n",
    "walk = [position]\n",
    "steps = 1000\n",
    "for i in range(steps):\n",
    "    step = 1 if random.randint(0, 1) else -1\n",
    "    position += step\n",
    "    walk.append(position)\n",
    "\n",
    "plt.plot(walk[:100])\n",
    "# walk : 계단을 오르거나(+1) 내려간(-1) 값의 누적합\n",
    "nsteps = 1000\n",
    "draws = np.random.randint(0, 2, size = steps)\n",
    "steps = np.where(draws > 0, 1, -1)\n",
    "walk = steps.cumsum()\n",
    "print(walk.min())\n",
    "print()\n",
    "print(walk.max())\n",
    "print()\n",
    "print((np.abs(walk)>=10).argmax()) # np.abs(walk)>=10 : 처음 위치에서 10칸이상 떨어진 시점을 알려준다\n",
    "print()                            # argmax() : '최초의' 10 혹은 -10 인 시점을 구해야하므로 불리언 배열에서 최대값의 처음 색인을 반환해줌\n",
    "nwalks = 5000\n",
    "nsteps = 1000\n",
    "draws = np.random.randint(0, 2, size=(nwalks, nsteps)) # 0 또는 1\n",
    "steps = np.where(draws > 0, 1, -1)\n",
    "walks = steps.cumsum(1)\n",
    "print(walks)\n",
    "print()\n",
    "print(walks.max(), walks.min())\n",
    "hits30 = (np.abs(walks)>=30).any(1)\n",
    "print(hits30)\n",
    "print()\n",
    "crossing_times = (np.abs(walks[hits30])>=30).argmax(1)\n",
    "print(crossing_times.mean())"
   ]
  }
 ],
 "metadata": {
  "kernelspec": {
   "display_name": "Python 3",
   "language": "python",
   "name": "python3"
  },
  "language_info": {
   "codemirror_mode": {
    "name": "ipython",
    "version": 3
   },
   "file_extension": ".py",
   "mimetype": "text/x-python",
   "name": "python",
   "nbconvert_exporter": "python",
   "pygments_lexer": "ipython3",
   "version": "3.8.5"
  }
 },
 "nbformat": 4,
 "nbformat_minor": 4
}
